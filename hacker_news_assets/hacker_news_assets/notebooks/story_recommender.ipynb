{
 "cells": [
  {
   "cell_type": "code",
   "execution_count": null,
   "metadata": {},
   "outputs": [],
   "source": [
    "%load_ext autoreload\n",
    "%autoreload 2\n",
    "\n",
    "from hacker_news.pipelines.story_recommender import story_recommender\n",
    "from hacker_news.solids.comment_stories import build_comment_stories\n",
    "from hacker_news.resources.gcp_pandas_loader import gcp_table_to_pandas"
   ]
  },
  {
   "cell_type": "code",
   "execution_count": null,
   "metadata": {},
   "outputs": [],
   "source": [
    "from dagster import (\n",
    "    execute_pipeline,\n",
    "    execute_solid,\n",
    "    pipeline,\n",
    "    solid,\n",
    "    ModeDefinition,\n",
    "    InputDefinition,\n",
    "    OutputDefinition,\n",
    "    Output,\n",
    ")"
   ]
  },
  {
   "cell_type": "code",
   "execution_count": null,
   "metadata": {},
   "outputs": [],
   "source": [
    "result = execute_pipeline(story_recommender, raise_on_error=False)"
   ]
  },
  {
   "cell_type": "code",
   "execution_count": null,
   "metadata": {},
   "outputs": [],
   "source": []
  }
 ],
 "metadata": {
  "kernelspec": {
   "display_name": "dagster-3.6.8",
   "language": "python",
   "name": "dagster-3.6.8"
  },
  "language_info": {
   "codemirror_mode": {
    "name": "ipython",
    "version": 3
   },
   "file_extension": ".py",
   "mimetype": "text/x-python",
   "name": "python",
   "nbconvert_exporter": "python",
   "pygments_lexer": "ipython3",
   "version": "3.6.8"
  }
 },
 "nbformat": 4,
 "nbformat_minor": 4
}
