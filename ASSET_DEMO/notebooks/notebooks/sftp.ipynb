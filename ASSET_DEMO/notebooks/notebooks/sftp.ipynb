{
 "cells": [
  {
   "cell_type": "markdown",
   "id": "ab01050a-1acc-4404-bdf2-55d0f75a34e6",
   "metadata": {},
   "source": [
    "# SFT example\n",
    "\n",
    "based on: https://gist.github.com/lkluft/ddda28208f7658d93f8238ad88bd45f2"
   ]
  },
  {
   "cell_type": "code",
   "execution_count": 13,
   "id": "b22254a2-6e5d-486a-a8b8-417536375143",
   "metadata": {},
   "outputs": [
    {
     "name": "stdout",
     "output_type": "stream",
     "text": [
      "['upload/foo-bar-baz']\n"
     ]
    }
   ],
   "source": [
    "# Find all txt-files on remote machine.\n",
    "# \n",
    "# /scratch/lehre/edvprak/u300509/\n",
    "# ├── bar\n",
    "# │   ├── bar1\n",
    "# │   │   ├── test.nc\n",
    "# │   │   └── test.txt\n",
    "# │   └── bar2\n",
    "# │       └── test.txt\n",
    "# └── foo\n",
    "#     ├── test2.txt\n",
    "#     └── test.pdf\n",
    "# \n",
    "# 4 directories, 5 files\n",
    "\n",
    "import os\n",
    "import re\n",
    "import stat\n",
    "import tempfile\n",
    "\n",
    "import paramiko\n",
    "\n",
    "\n",
    "def paramiko_glob(path, pattern, sftp):\n",
    "    \"\"\"Search recursively for files matching a given pattern.\n",
    "    \n",
    "    Parameters:\n",
    "        path (str): Path to directory on remote machine.\n",
    "        pattern (str): Python re [0] pattern for filenames.\n",
    "        sftp (SFTPClient): paramiko SFTPClient.\n",
    "        \n",
    "    [0] https://docs.python.org/2/library/re.html\n",
    "        \n",
    "    \"\"\"\n",
    "    p = re.compile(pattern)\n",
    "    root = sftp.listdir(path)\n",
    "    file_list = []\n",
    "    \n",
    "    # Loop over all entries in given path...\n",
    "    for f in (os.path.join(path, entry) for entry in root):\n",
    "        f_stat = sftp.stat(f)\n",
    "        # ... if it is a directory call paramiko_glob recursively.\n",
    "        if stat.S_ISDIR(f_stat.st_mode):\n",
    "            file_list += paramiko_glob(f, pattern, sftp)\n",
    "        # ... if it is a file, check the name pattern and append it to file_list.\n",
    "        elif p.match(f):\n",
    "            file_list.append(f)\n",
    "    return file_list\n",
    "\n",
    "\n",
    "# Setup paramiko connection.\n",
    "ssh = paramiko.SSHClient()\n",
    "ssh.set_missing_host_key_policy(paramiko.AutoAddPolicy())\n",
    "ssh.connect('localhost', port=2222, username='foo', password='bar')\n",
    "sftp = ssh.open_sftp()\n",
    "\n",
    "# Actucal call of paramiko_glob.\n",
    "files = paramiko_glob('upload/', '', sftp)\n",
    "print(files)\n",
    "\n",
    "# Path to temporary directory in RAM disk.\n",
    "#tmpdir = '/dev/shm/u300509/'\n",
    "#for f in files:\n",
    "#    # Copy remote file to local tmp path and read it.\n",
    "#    local_tmp = tempfile.mktemp(prefix=tmpdir)\n",
    "#    sftp.get(f, local_tmp)\n",
    "#    with open(local_tmp) as ftmp:\n",
    "#        print(ftmp.readlines())\n",
    "#    os.remove(local_tmp)\n",
    "        \n",
    "# Remove temporary files and close connections.\n",
    "sftp.close()\n",
    "ssh.close()"
   ]
  },
  {
   "cell_type": "code",
   "execution_count": 3,
   "id": "20ead308-1a79-4205-a52d-32f9e7bc37b2",
   "metadata": {},
   "outputs": [],
   "source": [
    "# !pip install paramiko"
   ]
  },
  {
   "cell_type": "code",
   "execution_count": null,
   "id": "2aaee095-d31f-42f7-a247-4a2e54f89f9b",
   "metadata": {},
   "outputs": [],
   "source": []
  }
 ],
 "metadata": {
  "kernelspec": {
   "display_name": "Python 3 (ipykernel)",
   "language": "python",
   "name": "python3"
  },
  "language_info": {
   "codemirror_mode": {
    "name": "ipython",
    "version": 3
   },
   "file_extension": ".py",
   "mimetype": "text/x-python",
   "name": "python",
   "nbconvert_exporter": "python",
   "pygments_lexer": "ipython3",
   "version": "3.9.10"
  }
 },
 "nbformat": 4,
 "nbformat_minor": 5
}
