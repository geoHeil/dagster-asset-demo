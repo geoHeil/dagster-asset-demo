{
 "cells": [
  {
   "cell_type": "code",
   "execution_count": null,
   "metadata": {},
   "outputs": [],
   "source": [
    "import dagstermill\n",
    "import pandas as pd\n",
    "import random\n",
    "import matplotlib.pyplot as plt"
   ]
  },
  {
   "cell_type": "code",
   "execution_count": null,
   "metadata": {
    "tags": [
     "parameters"
    ]
   },
   "outputs": [],
   "source": [
    "path = \"warehouse_location/asdf_foo_test\"\n",
    "#path = \"../../../warehouse_location/cereal\""
   ]
  },
  {
   "cell_type": "code",
   "execution_count": null,
   "metadata": {},
   "outputs": [],
   "source": [
    "#%ls ../../../warehouse_location"
   ]
  },
  {
   "cell_type": "code",
   "execution_count": null,
   "metadata": {},
   "outputs": [],
   "source": [
    "cereals = pd.read_csv(path)\n",
    "cereals.head()"
   ]
  },
  {
   "cell_type": "code",
   "execution_count": null,
   "metadata": {},
   "outputs": [],
   "source": [
    "colormap = {\"H\": \"orangered\", \"C\": \"cornflowerblue\"}\n",
    "\n",
    "xs = cereals[\"calories\"].apply(lambda x: x + random.random() * 3 - 1.5)\n",
    "ys = cereals[\"protein\"].apply(lambda x: x + random.random() / 10 - 0.05)\n",
    "colors = cereals[\"type\"].apply(lambda x: colormap[x])\n",
    "labels = cereals[\"name\"]\n",
    "\n",
    "fig, ax = plt.subplots(figsize=(15, 15))\n",
    "ax.scatter(x=xs, y=ys, c=colors, alpha=0.5)\n",
    "ax.set_xlabel(\"calories\")\n",
    "ax.set_label(\"protein\")\n",
    "\n",
    "for x, y, label in zip(xs, ys, labels):\n",
    "    plt.annotate(label, (x, y), textcoords=\"offset points\", xytext=(3, 10), ha=\"left\", size=7)\n",
    "\n",
    "plt.show()\n",
    "plot_path = \"cereal_analysis_{run_id}.pdf\".format(run_id=context.run_id)\n",
    "fig.savefig(plot_path, bbox_inches=\"tight\")"
   ]
  },
  {
   "cell_type": "code",
   "execution_count": null,
   "metadata": {},
   "outputs": [],
   "source": [
    "#dagstermill.yield_result(plot_path)\n",
    "from dagster import LocalFileHandle\n",
    "dagstermill.yield_result(LocalFileHandle(plot_path))"
   ]
  },
  {
   "cell_type": "code",
   "execution_count": null,
   "metadata": {},
   "outputs": [],
   "source": []
  }
 ],
 "metadata": {
  "celltoolbar": "Tags",
  "kernelspec": {
   "display_name": "Python 3 (ipykernel)",
   "language": "python",
   "name": "python3"
  },
  "language_info": {
   "codemirror_mode": {
    "name": "ipython",
    "version": 3
   },
   "file_extension": ".py",
   "mimetype": "text/x-python",
   "name": "python",
   "nbconvert_exporter": "python",
   "pygments_lexer": "ipython3",
   "version": "3.9.10"
  }
 },
 "nbformat": 4,
 "nbformat_minor": 4
}
